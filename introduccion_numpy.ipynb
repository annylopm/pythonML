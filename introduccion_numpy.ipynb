{
  "nbformat": 4,
  "nbformat_minor": 0,
  "metadata": {
    "colab": {
      "provenance": []
    },
    "kernelspec": {
      "name": "python3",
      "display_name": "Python 3"
    },
    "language_info": {
      "name": "python"
    }
  },
  "cells": [
    {
      "cell_type": "code",
      "execution_count": 59,
      "metadata": {
        "id": "z6HZeCYY0yG-"
      },
      "outputs": [],
      "source": [
        "#importamos libreria de python numpy\n",
        "import numpy as np"
      ]
    },
    {
      "cell_type": "code",
      "source": [
        "#Array en el que todos sus valores son 0\n",
        "a = np.zeros((2, 4))"
      ],
      "metadata": {
        "id": "qVurG_Q51A6H"
      },
      "execution_count": 60,
      "outputs": []
    },
    {
      "cell_type": "code",
      "source": [
        "#mostramos array\n",
        "a"
      ],
      "metadata": {
        "colab": {
          "base_uri": "https://localhost:8080/"
        },
        "id": "Sp8JEwY5RRgq",
        "outputId": "1e0eee8b-7640-455c-aff2-227211a38007"
      },
      "execution_count": 61,
      "outputs": [
        {
          "output_type": "execute_result",
          "data": {
            "text/plain": [
              "array([[0., 0., 0., 0.],\n",
              "       [0., 0., 0., 0.]])"
            ]
          },
          "metadata": {},
          "execution_count": 61
        }
      ]
    },
    {
      "cell_type": "code",
      "source": [
        "#Dimensiones con su longitud\n",
        "a.shape"
      ],
      "metadata": {
        "colab": {
          "base_uri": "https://localhost:8080/"
        },
        "id": "ycVM-FYpSWTR",
        "outputId": "17918de9-09c4-44b6-c685-890fda84c065"
      },
      "execution_count": 62,
      "outputs": [
        {
          "output_type": "execute_result",
          "data": {
            "text/plain": [
              "(2, 4)"
            ]
          },
          "metadata": {},
          "execution_count": 62
        }
      ]
    },
    {
      "cell_type": "code",
      "source": [
        "#num de dimensiones\n",
        "a.ndim"
      ],
      "metadata": {
        "colab": {
          "base_uri": "https://localhost:8080/"
        },
        "id": "UXdCYN5GSaOT",
        "outputId": "460d81c5-8580-41c5-ac02-3029de224833"
      },
      "execution_count": 63,
      "outputs": [
        {
          "output_type": "execute_result",
          "data": {
            "text/plain": [
              "2"
            ]
          },
          "metadata": {},
          "execution_count": 63
        }
      ]
    },
    {
      "cell_type": "code",
      "source": [
        "#num de elementos\n",
        "a.size"
      ],
      "metadata": {
        "colab": {
          "base_uri": "https://localhost:8080/"
        },
        "id": "6tvjHUv5SnAN",
        "outputId": "db4ead06-093c-4a3d-96e6-01b6dd5f2662"
      },
      "execution_count": 64,
      "outputs": [
        {
          "output_type": "execute_result",
          "data": {
            "text/plain": [
              "8"
            ]
          },
          "metadata": {},
          "execution_count": 64
        }
      ]
    },
    {
      "cell_type": "markdown",
      "source": [
        "## Creación de arrays"
      ],
      "metadata": {
        "id": "vds5PDoc1C55"
      }
    },
    {
      "cell_type": "code",
      "source": [
        "#Array cuyos valores son ceros\n",
        "np.zeros((2, 3, 4))"
      ],
      "metadata": {
        "colab": {
          "base_uri": "https://localhost:8080/"
        },
        "id": "7SzW3Jw01Mou",
        "outputId": "6564015f-4cc0-44fd-f087-9bbd88aef6af"
      },
      "execution_count": 65,
      "outputs": [
        {
          "output_type": "execute_result",
          "data": {
            "text/plain": [
              "array([[[0., 0., 0., 0.],\n",
              "        [0., 0., 0., 0.],\n",
              "        [0., 0., 0., 0.]],\n",
              "\n",
              "       [[0., 0., 0., 0.],\n",
              "        [0., 0., 0., 0.],\n",
              "        [0., 0., 0., 0.]]])"
            ]
          },
          "metadata": {},
          "execution_count": 65
        }
      ]
    },
    {
      "cell_type": "code",
      "source": [
        "#Array cuyos valores son unos\n",
        "np.ones((2,3,4))"
      ],
      "metadata": {
        "colab": {
          "base_uri": "https://localhost:8080/"
        },
        "id": "lkUrEak318Mh",
        "outputId": "df4237d9-ae01-4750-c397-666c7ef66beb"
      },
      "execution_count": 66,
      "outputs": [
        {
          "output_type": "execute_result",
          "data": {
            "text/plain": [
              "array([[[1., 1., 1., 1.],\n",
              "        [1., 1., 1., 1.],\n",
              "        [1., 1., 1., 1.]],\n",
              "\n",
              "       [[1., 1., 1., 1.],\n",
              "        [1., 1., 1., 1.],\n",
              "        [1., 1., 1., 1.]]])"
            ]
          },
          "metadata": {},
          "execution_count": 66
        }
      ]
    },
    {
      "cell_type": "code",
      "source": [
        "#Array cuyos valores son todos el valor indicado como segundo parametro de la funcion\n",
        "np.full((2,3,4),8)"
      ],
      "metadata": {
        "colab": {
          "base_uri": "https://localhost:8080/"
        },
        "id": "fp628Y4l2FsM",
        "outputId": "ad7c50d7-840a-4529-b0a2-c20601a10a99"
      },
      "execution_count": 67,
      "outputs": [
        {
          "output_type": "execute_result",
          "data": {
            "text/plain": [
              "array([[[8, 8, 8, 8],\n",
              "        [8, 8, 8, 8],\n",
              "        [8, 8, 8, 8]],\n",
              "\n",
              "       [[8, 8, 8, 8],\n",
              "        [8, 8, 8, 8],\n",
              "        [8, 8, 8, 8]]])"
            ]
          },
          "metadata": {},
          "execution_count": 67
        }
      ]
    },
    {
      "cell_type": "code",
      "source": [
        "#El resultado de np.empty no es predecible\n",
        "#Inicializa los valores del array con lo que haya en memoria en ese momento\n",
        "np.empty((2,3,9))"
      ],
      "metadata": {
        "colab": {
          "base_uri": "https://localhost:8080/"
        },
        "id": "LpZZXNjP2hCj",
        "outputId": "32bbe600-5de2-47f3-d513-c62c01b36d02"
      },
      "execution_count": 68,
      "outputs": [
        {
          "output_type": "execute_result",
          "data": {
            "text/plain": [
              "array([[[ 4.83163947e-310,  0.00000000e+000,  3.48952261e-312,\n",
              "          8.95592228e-305,  1.33360392e+241,  1.26271482e-309,\n",
              "          1.85505085e-229,  4.10490139e-312,  2.42606930e-308],\n",
              "        [ 1.33360290e+241,  5.67421675e-311,  9.63197468e-196,\n",
              "          4.33848671e-313,  7.57263906e-309,  1.33360292e+241,\n",
              "          1.21929878e-310,  7.68983921e-271, -2.90040256e+127],\n",
              "        [ 4.91056491e+025,  7.63234653e-300,  1.33360302e+241,\n",
              "          2.60992750e-309,  9.29644518e-247,  6.96411093e+252,\n",
              "          2.66425900e-309,  9.22559895e-143,  7.30928081e-313]],\n",
              "\n",
              "       [[ 5.40840706e-308,  6.21822213e+175,  2.63920065e-314,\n",
              "          3.78946403e-270,  4.02977884e-270,  4.02977523e-270,\n",
              "          5.62973000e-241,  1.26211448e-259,  3.57207758e-241],\n",
              "        [ 1.73172426e-260,  8.29665817e-251,  2.40411467e-265,\n",
              "          5.07931918e-299,  1.25478117e-298,  5.37793619e-299,\n",
              "          6.86813648e-270,  1.67428954e-298,  3.40472996e-217],\n",
              "        [ 7.42339339e-251,  1.79177135e-259,  4.37129881e-289,\n",
              "          2.31896868e-306,  4.24870377e-309,  1.13671876e-298,\n",
              "          3.19858078e-241,  4.25347707e-309,  1.97280530e-153]]])"
            ]
          },
          "metadata": {},
          "execution_count": 68
        }
      ]
    },
    {
      "cell_type": "code",
      "source": [
        "#Inicializacion de un array utilizando una lista de Python\n",
        "b = np.array([1,2,3])"
      ],
      "metadata": {
        "id": "X9xY8U9AQ5PA"
      },
      "execution_count": 69,
      "outputs": []
    },
    {
      "cell_type": "code",
      "source": [
        "b"
      ],
      "metadata": {
        "colab": {
          "base_uri": "https://localhost:8080/"
        },
        "id": "J9kgO-hmUnl1",
        "outputId": "5c123ec0-15b0-4440-92fc-6b57e3823aec"
      },
      "execution_count": 70,
      "outputs": [
        {
          "output_type": "execute_result",
          "data": {
            "text/plain": [
              "array([1, 2, 3])"
            ]
          },
          "metadata": {},
          "execution_count": 70
        }
      ]
    },
    {
      "cell_type": "code",
      "source": [
        "b.ndim"
      ],
      "metadata": {
        "colab": {
          "base_uri": "https://localhost:8080/"
        },
        "id": "GMcXjJZSYs-Z",
        "outputId": "9dc0e7ed-e0cc-4f68-8f00-7ece6c7acbd6"
      },
      "execution_count": 71,
      "outputs": [
        {
          "output_type": "execute_result",
          "data": {
            "text/plain": [
              "1"
            ]
          },
          "metadata": {},
          "execution_count": 71
        }
      ]
    },
    {
      "cell_type": "code",
      "source": [
        "#Creacion de un array utilizando una funcion basada en rangos\n",
        "#(minimo, maximo, numero de elementos del array)\n",
        "np.linspace(0, 6, 10)"
      ],
      "metadata": {
        "colab": {
          "base_uri": "https://localhost:8080/"
        },
        "id": "2FSioveyZUAT",
        "outputId": "3691fd5f-d49e-4134-ea8d-be362d0a8bbf"
      },
      "execution_count": 72,
      "outputs": [
        {
          "output_type": "execute_result",
          "data": {
            "text/plain": [
              "array([0.        , 0.66666667, 1.33333333, 2.        , 2.66666667,\n",
              "       3.33333333, 4.        , 4.66666667, 5.33333333, 6.        ])"
            ]
          },
          "metadata": {},
          "execution_count": 72
        }
      ]
    },
    {
      "cell_type": "code",
      "source": [
        "#inicialización del array con valores aleatorios\n",
        "np.random.rand(2,3,4)"
      ],
      "metadata": {
        "colab": {
          "base_uri": "https://localhost:8080/"
        },
        "id": "qnieYhW4aEPh",
        "outputId": "4014c287-5af8-4cd4-8454-d6768e67b7c0"
      },
      "execution_count": 73,
      "outputs": [
        {
          "output_type": "execute_result",
          "data": {
            "text/plain": [
              "array([[[0.35756434, 0.96414644, 0.03488493, 0.16752916],\n",
              "        [0.93567999, 0.16022541, 0.03255924, 0.62692065],\n",
              "        [0.54474492, 0.91623973, 0.55213976, 0.3038841 ]],\n",
              "\n",
              "       [[0.79619669, 0.04257685, 0.20954101, 0.3787258 ],\n",
              "        [0.12985472, 0.89095873, 0.97414341, 0.9600076 ],\n",
              "        [0.28937309, 0.1833847 , 0.12982499, 0.47282076]]])"
            ]
          },
          "metadata": {},
          "execution_count": 73
        }
      ]
    },
    {
      "cell_type": "code",
      "source": [
        "#Inicializacion de array con valores aleatorios conforme a una distribucion normal\n",
        "np.random.randn(2,4)"
      ],
      "metadata": {
        "colab": {
          "base_uri": "https://localhost:8080/"
        },
        "id": "CwT9lMhEa7YK",
        "outputId": "31544b56-d604-43d2-ff37-6853bb571b5e"
      },
      "execution_count": 74,
      "outputs": [
        {
          "output_type": "execute_result",
          "data": {
            "text/plain": [
              "array([[ 0.70670898,  0.10302318, -0.52010506,  1.73336028],\n",
              "       [ 1.74356174, -1.98579832,  2.65139344,  1.38514006]])"
            ]
          },
          "metadata": {},
          "execution_count": 74
        }
      ]
    },
    {
      "cell_type": "code",
      "source": [
        "#representacin grafica\n",
        "%matplotlib inline\n",
        "import matplotlib.pyplot as plt\n",
        "\n",
        "c = np.random.randn(1000000)\n",
        "plt.hist(c, bins = 200)\n",
        "plt.show"
      ],
      "metadata": {
        "colab": {
          "base_uri": "https://localhost:8080/",
          "height": 447
        },
        "id": "TO1xerwYbSYp",
        "outputId": "0dc1f4a6-564c-402c-a4f6-b324c75566b6"
      },
      "execution_count": 75,
      "outputs": [
        {
          "output_type": "execute_result",
          "data": {
            "text/plain": [
              "<function matplotlib.pyplot.show(close=None, block=None)>"
            ]
          },
          "metadata": {},
          "execution_count": 75
        },
        {
          "output_type": "display_data",
          "data": {
            "text/plain": [
              "<Figure size 640x480 with 1 Axes>"
            ],
            "image/png": "[encoded data removed]"
          },
          "metadata": {}
        }
      ]
    },
    {
      "cell_type": "markdown",
      "source": [
        "## **Acceso a los elementos de un array**"
      ],
      "metadata": {
        "id": "-JBqPUFAcU6i"
      }
    },
    {
      "cell_type": "markdown",
      "source": [
        "**Array unidimensional**"
      ],
      "metadata": {
        "id": "NdZS2shlchxn"
      }
    },
    {
      "cell_type": "code",
      "source": [
        "#Creacion de un array unidimensional\n",
        "array_uni = np.array([1,4,7,3,9,11])\n",
        "print(array_uni.shape)\n",
        "print(array_uni)"
      ],
      "metadata": {
        "colab": {
          "base_uri": "https://localhost:8080/"
        },
        "id": "agUiDJcqctDi",
        "outputId": "bb8b314e-7239-41ec-a68d-e5e64fadad42"
      },
      "execution_count": 76,
      "outputs": [
        {
          "output_type": "stream",
          "name": "stdout",
          "text": [
            "(6,)\n",
            "[ 1  4  7  3  9 11]\n"
          ]
        }
      ]
    },
    {
      "cell_type": "code",
      "source": [
        "#Accediendo al quinto elemento de un array\n",
        "array_uni[4]"
      ],
      "metadata": {
        "colab": {
          "base_uri": "https://localhost:8080/"
        },
        "id": "w2eyka8ectID",
        "outputId": "f945e2a2-05bb-4b3d-9c2a-a87ed5901267"
      },
      "execution_count": 77,
      "outputs": [
        {
          "output_type": "execute_result",
          "data": {
            "text/plain": [
              "9"
            ]
          },
          "metadata": {},
          "execution_count": 77
        }
      ]
    },
    {
      "cell_type": "code",
      "source": [
        "#Accediendo al tercer y cuarto elemento del array\n",
        "array_uni[2:4]"
      ],
      "metadata": {
        "colab": {
          "base_uri": "https://localhost:8080/"
        },
        "id": "GlJyH-Cic_ii",
        "outputId": "2e26e62c-6a4f-4b85-dc41-e9f608438f19"
      },
      "execution_count": 78,
      "outputs": [
        {
          "output_type": "execute_result",
          "data": {
            "text/plain": [
              "array([7, 3])"
            ]
          },
          "metadata": {},
          "execution_count": 78
        }
      ]
    },
    {
      "cell_type": "code",
      "source": [
        "#Accediendo al los elementos 0,3 y 5 del array\n",
        "array_uni[0::3]"
      ],
      "metadata": {
        "colab": {
          "base_uri": "https://localhost:8080/"
        },
        "id": "aE7Ku9UtdFIU",
        "outputId": "2ca01b50-d92b-4eb5-bf3e-89684bc9f688"
      },
      "execution_count": 79,
      "outputs": [
        {
          "output_type": "execute_result",
          "data": {
            "text/plain": [
              "array([1, 3])"
            ]
          },
          "metadata": {},
          "execution_count": 79
        }
      ]
    },
    {
      "cell_type": "markdown",
      "source": [
        "**Array multidimensional**"
      ],
      "metadata": {
        "id": "k7d9KgXdfpFF"
      }
    },
    {
      "cell_type": "code",
      "source": [
        "#Creacion de un array multidimensional\n",
        "array_multi = np.array([[1,2,3,4],[5,6,7,8]])\n",
        "print(array_multi.shape)\n",
        "print(array_multi)"
      ],
      "metadata": {
        "colab": {
          "base_uri": "https://localhost:8080/"
        },
        "id": "O3Bhn8C6fsjL",
        "outputId": "1cff4993-de19-472b-8018-19a632ad7648"
      },
      "execution_count": 80,
      "outputs": [
        {
          "output_type": "stream",
          "name": "stdout",
          "text": [
            "(2, 4)\n",
            "[[1 2 3 4]\n",
            " [5 6 7 8]]\n"
          ]
        }
      ]
    },
    {
      "cell_type": "code",
      "source": [
        "#Accediendo al cuarto elemento del array\n",
        "array_multi[0, 3]"
      ],
      "metadata": {
        "colab": {
          "base_uri": "https://localhost:8080/"
        },
        "id": "Go_wORNmfwM6",
        "outputId": "0fb8a47c-9e86-4b9a-89c7-632978d5b783"
      },
      "execution_count": 81,
      "outputs": [
        {
          "output_type": "execute_result",
          "data": {
            "text/plain": [
              "4"
            ]
          },
          "metadata": {},
          "execution_count": 81
        }
      ]
    },
    {
      "cell_type": "code",
      "source": [
        "#Accediendo a la segunda fila del array\n",
        "array_multi[1, :]"
      ],
      "metadata": {
        "colab": {
          "base_uri": "https://localhost:8080/"
        },
        "id": "3MzwEGsNfzoZ",
        "outputId": "8a6ddf6b-10a4-4109-dcf1-a5f5ff83b61b"
      },
      "execution_count": 82,
      "outputs": [
        {
          "output_type": "execute_result",
          "data": {
            "text/plain": [
              "array([5, 6, 7, 8])"
            ]
          },
          "metadata": {},
          "execution_count": 82
        }
      ]
    },
    {
      "cell_type": "code",
      "source": [
        "#Accediendo al tercer elemento de las dos primeras filas del array\n",
        "array_multi[0:2, 2]"
      ],
      "metadata": {
        "colab": {
          "base_uri": "https://localhost:8080/"
        },
        "id": "8dx1jsMVf39g",
        "outputId": "e6af4760-7014-451f-8ca3-5b6484d890df"
      },
      "execution_count": 83,
      "outputs": [
        {
          "output_type": "execute_result",
          "data": {
            "text/plain": [
              "array([3, 7])"
            ]
          },
          "metadata": {},
          "execution_count": 83
        }
      ]
    },
    {
      "cell_type": "markdown",
      "source": [
        "**Modificación de un Array**"
      ],
      "metadata": {
        "id": "-onTeYlOo_0D"
      }
    },
    {
      "cell_type": "code",
      "source": [
        "#Creacion de un array unidimensional inicializado con el rango de elementos 0-27\n",
        "array1 = np.arange(28)"
      ],
      "metadata": {
        "id": "bwIQtXzJpDd0"
      },
      "execution_count": 84,
      "outputs": []
    },
    {
      "cell_type": "code",
      "source": [
        "array1"
      ],
      "metadata": {
        "colab": {
          "base_uri": "https://localhost:8080/"
        },
        "id": "zRCbRRAqgyo0",
        "outputId": "cddca624-b369-49b5-8a4a-76cbf2d6837b"
      },
      "execution_count": 85,
      "outputs": [
        {
          "output_type": "execute_result",
          "data": {
            "text/plain": [
              "array([ 0,  1,  2,  3,  4,  5,  6,  7,  8,  9, 10, 11, 12, 13, 14, 15, 16,\n",
              "       17, 18, 19, 20, 21, 22, 23, 24, 25, 26, 27])"
            ]
          },
          "metadata": {},
          "execution_count": 85
        }
      ]
    },
    {
      "cell_type": "code",
      "source": [
        "#Cambiar las dimensiones del array y sus longitudes\n",
        "array1.shape = (7,4)"
      ],
      "metadata": {
        "id": "qdbfClAtpOVv"
      },
      "execution_count": 86,
      "outputs": []
    },
    {
      "cell_type": "code",
      "source": [
        "array1"
      ],
      "metadata": {
        "colab": {
          "base_uri": "https://localhost:8080/"
        },
        "id": "_4nFYXdyg5yS",
        "outputId": "fbeecf2c-fc6e-4f22-bbe5-cc3e6cc98abd"
      },
      "execution_count": 87,
      "outputs": [
        {
          "output_type": "execute_result",
          "data": {
            "text/plain": [
              "array([[ 0,  1,  2,  3],\n",
              "       [ 4,  5,  6,  7],\n",
              "       [ 8,  9, 10, 11],\n",
              "       [12, 13, 14, 15],\n",
              "       [16, 17, 18, 19],\n",
              "       [20, 21, 22, 23],\n",
              "       [24, 25, 26, 27]])"
            ]
          },
          "metadata": {},
          "execution_count": 87
        }
      ]
    },
    {
      "cell_type": "code",
      "source": [
        "#el ejemplo anterior devuelve un nuebo array que apunta a los mismos datos\n",
        "#Imporante: modificaciones en un array, modificaran el otro array\n",
        "array2 = array1.reshape(4,7)"
      ],
      "metadata": {
        "id": "OEKYVYRCpUvj"
      },
      "execution_count": 88,
      "outputs": []
    },
    {
      "cell_type": "code",
      "source": [
        "array2"
      ],
      "metadata": {
        "colab": {
          "base_uri": "https://localhost:8080/"
        },
        "id": "9oGlXyA4PkW-",
        "outputId": "4d168259-31a5-4303-fb12-3750d33361a9"
      },
      "execution_count": 89,
      "outputs": [
        {
          "output_type": "execute_result",
          "data": {
            "text/plain": [
              "array([[ 0,  1,  2,  3,  4,  5,  6],\n",
              "       [ 7,  8,  9, 10, 11, 12, 13],\n",
              "       [14, 15, 16, 17, 18, 19, 20],\n",
              "       [21, 22, 23, 24, 25, 26, 27]])"
            ]
          },
          "metadata": {},
          "execution_count": 89
        }
      ]
    },
    {
      "cell_type": "code",
      "source": [
        "array1"
      ],
      "metadata": {
        "colab": {
          "base_uri": "https://localhost:8080/"
        },
        "id": "U5aJuBgXPodm",
        "outputId": "9fd4ef61-057b-4be5-df32-0987d831628a"
      },
      "execution_count": 90,
      "outputs": [
        {
          "output_type": "execute_result",
          "data": {
            "text/plain": [
              "array([[ 0,  1,  2,  3],\n",
              "       [ 4,  5,  6,  7],\n",
              "       [ 8,  9, 10, 11],\n",
              "       [12, 13, 14, 15],\n",
              "       [16, 17, 18, 19],\n",
              "       [20, 21, 22, 23],\n",
              "       [24, 25, 26, 27]])"
            ]
          },
          "metadata": {},
          "execution_count": 90
        }
      ]
    },
    {
      "cell_type": "code",
      "source": [
        "#Modificacion del nuevo array devuelto\n",
        "array2[0,3] = 20"
      ],
      "metadata": {
        "id": "UqZ5NiRDp-Px"
      },
      "execution_count": 91,
      "outputs": []
    },
    {
      "cell_type": "code",
      "source": [
        "array2"
      ],
      "metadata": {
        "colab": {
          "base_uri": "https://localhost:8080/"
        },
        "id": "hjb1E4KYP6Nf",
        "outputId": "5f93fda3-856f-4d91-c8f2-c47cb7e872ab"
      },
      "execution_count": 92,
      "outputs": [
        {
          "output_type": "execute_result",
          "data": {
            "text/plain": [
              "array([[ 0,  1,  2, 20,  4,  5,  6],\n",
              "       [ 7,  8,  9, 10, 11, 12, 13],\n",
              "       [14, 15, 16, 17, 18, 19, 20],\n",
              "       [21, 22, 23, 24, 25, 26, 27]])"
            ]
          },
          "metadata": {},
          "execution_count": 92
        }
      ]
    },
    {
      "cell_type": "code",
      "source": [
        "#Desenvuelve el array, devolviendo un nuevo array de una sola dimension\n",
        "#importante: el nuevo array apunta a los mismos datos\n",
        "array1.ravel()"
      ],
      "metadata": {
        "colab": {
          "base_uri": "https://localhost:8080/"
        },
        "id": "5_Yc34ucfvRg",
        "outputId": "1584fc4c-f703-4f17-bb94-95c8421f3b0c"
      },
      "execution_count": 93,
      "outputs": [
        {
          "output_type": "execute_result",
          "data": {
            "text/plain": [
              "array([ 0,  1,  2, 20,  4,  5,  6,  7,  8,  9, 10, 11, 12, 13, 14, 15, 16,\n",
              "       17, 18, 19, 20, 21, 22, 23, 24, 25, 26, 27])"
            ]
          },
          "metadata": {},
          "execution_count": 93
        }
      ]
    },
    {
      "cell_type": "markdown",
      "source": [
        "## **Operaciones aritméticas con Arrays**"
      ],
      "metadata": {
        "id": "CHFltXHISJGf"
      }
    },
    {
      "cell_type": "code",
      "source": [
        "#Creacion de dos arrays unidimensionales\n",
        "array1 = np.arange(2,18,2)\n",
        "array2 = np.arange(8)\n",
        "print(\"Array 1: \", array1)\n",
        "print(\"Array2: \", array2)"
      ],
      "metadata": {
        "colab": {
          "base_uri": "https://localhost:8080/"
        },
        "id": "rX5w6iTsSRGH",
        "outputId": "f0f1bf2a-7ac5-498c-a944-f4c27f10dce8"
      },
      "execution_count": 94,
      "outputs": [
        {
          "output_type": "stream",
          "name": "stdout",
          "text": [
            "Array 1:  [ 2  4  6  8 10 12 14 16]\n",
            "Array2:  [0 1 2 3 4 5 6 7]\n"
          ]
        }
      ]
    },
    {
      "cell_type": "code",
      "source": [
        "#suma\n",
        "array1 + array2"
      ],
      "metadata": {
        "colab": {
          "base_uri": "https://localhost:8080/"
        },
        "id": "X2tdUoybSWjd",
        "outputId": "41c9328b-f56b-4986-fd80-98d2a06cf5b8"
      },
      "execution_count": 95,
      "outputs": [
        {
          "output_type": "execute_result",
          "data": {
            "text/plain": [
              "array([ 2,  5,  8, 11, 14, 17, 20, 23])"
            ]
          },
          "metadata": {},
          "execution_count": 95
        }
      ]
    },
    {
      "cell_type": "code",
      "source": [
        "#resta\n",
        "array1 - array2"
      ],
      "metadata": {
        "colab": {
          "base_uri": "https://localhost:8080/"
        },
        "id": "uDj6PTHgSXxT",
        "outputId": "66e920f4-637a-40be-a3df-69b3e75f2bf9"
      },
      "execution_count": 96,
      "outputs": [
        {
          "output_type": "execute_result",
          "data": {
            "text/plain": [
              "array([2, 3, 4, 5, 6, 7, 8, 9])"
            ]
          },
          "metadata": {},
          "execution_count": 96
        }
      ]
    },
    {
      "cell_type": "code",
      "source": [
        "#Multiplicacion\n",
        "#Importante: no es una multiplicacion de matrices\n",
        "array1 * array2"
      ],
      "metadata": {
        "colab": {
          "base_uri": "https://localhost:8080/"
        },
        "id": "pTEBn2unSZmM",
        "outputId": "5538ad7e-2c50-45fc-e7bd-0029591d9df4"
      },
      "execution_count": 97,
      "outputs": [
        {
          "output_type": "execute_result",
          "data": {
            "text/plain": [
              "array([  0,   4,  12,  24,  40,  60,  84, 112])"
            ]
          },
          "metadata": {},
          "execution_count": 97
        }
      ]
    },
    {
      "cell_type": "markdown",
      "source": [
        "## **Broadcasting**"
      ],
      "metadata": {
        "id": "b_uqCIUlWDXL"
      }
    },
    {
      "cell_type": "markdown",
      "source": [
        "Si se aplica operaciones aritméticas sobre Arrays que no tienen la misma forma (shape), Numpy aplica una propiedad que se denomina Broadcasting."
      ],
      "metadata": {
        "id": "AdXvVQgVWHaB"
      }
    },
    {
      "cell_type": "code",
      "source": [
        "#Creacion de dos arrays unidimensionales\n",
        "array1 = np.arange(5)\n",
        "array2 = np.array([3])\n",
        "print(\"Shape array1: \", array1.shape)\n",
        "print(\"Array1: \", array1)\n",
        "print(\"Shape array2: \", array2.shape)\n",
        "print(\"Array2: \", array2)"
      ],
      "metadata": {
        "colab": {
          "base_uri": "https://localhost:8080/"
        },
        "id": "g1L62nS7Wgrj",
        "outputId": "310c11b8-1f63-423f-fa85-77e2a60186b9"
      },
      "execution_count": 98,
      "outputs": [
        {
          "output_type": "stream",
          "name": "stdout",
          "text": [
            "Shape array1:  (5,)\n",
            "Array1:  [0 1 2 3 4]\n",
            "Shape array2:  (1,)\n",
            "Array2:  [3]\n"
          ]
        }
      ]
    },
    {
      "cell_type": "code",
      "source": [
        "#Suma de ambos arrays\n",
        "array1 + array2"
      ],
      "metadata": {
        "colab": {
          "base_uri": "https://localhost:8080/"
        },
        "id": "W3ygmUhqXMUn",
        "outputId": "96a3201f-6d36-481d-8780-d8121256210e"
      },
      "execution_count": 99,
      "outputs": [
        {
          "output_type": "execute_result",
          "data": {
            "text/plain": [
              "array([3, 4, 5, 6, 7])"
            ]
          },
          "metadata": {},
          "execution_count": 99
        }
      ]
    },
    {
      "cell_type": "code",
      "source": [
        "#Creacion de dos arrays unidimensional y multidimensional\n",
        "array1 = np.arange(6)\n",
        "array1.shape = (2,3)\n",
        "array2 = np.arange(6, 18, 4)\n",
        "print(\"Shape array1: \", array1.shape)\n",
        "print(\"Array1:\\n \", array1)\n",
        "print(\"Shape array2: \", array2.shape)\n",
        "print(\"Array2:\\n \", array2)"
      ],
      "metadata": {
        "colab": {
          "base_uri": "https://localhost:8080/"
        },
        "id": "utH9PgnHXPpU",
        "outputId": "3ca489b7-a8e3-459a-f58d-293350f0acad"
      },
      "execution_count": 100,
      "outputs": [
        {
          "output_type": "stream",
          "name": "stdout",
          "text": [
            "Shape array1:  (2, 3)\n",
            "Array1:\n",
            "  [[0 1 2]\n",
            " [3 4 5]]\n",
            "Shape array2:  (3,)\n",
            "Array2:\n",
            "  [ 6 10 14]\n"
          ]
        }
      ]
    },
    {
      "cell_type": "code",
      "source": [
        "#Suma de ambos arrays\n",
        "array1 + array2"
      ],
      "metadata": {
        "colab": {
          "base_uri": "https://localhost:8080/"
        },
        "id": "j2394pFgZI4V",
        "outputId": "0a7d3ab1-2737-4ef6-eefc-cecfcf770782"
      },
      "execution_count": 101,
      "outputs": [
        {
          "output_type": "execute_result",
          "data": {
            "text/plain": [
              "array([[ 6, 11, 16],\n",
              "       [ 9, 14, 19]])"
            ]
          },
          "metadata": {},
          "execution_count": 101
        }
      ]
    },
    {
      "cell_type": "markdown",
      "source": [
        "### **Funciones estadísticas sobre Arrays**"
      ],
      "metadata": {
        "id": "kll93pFNZmjt"
      }
    },
    {
      "cell_type": "code",
      "source": [
        "#Creacion de un array unidimensional\n",
        "array1 = np.arange(1, 20, 2)\n",
        "print(\"Array: \", array1)"
      ],
      "metadata": {
        "colab": {
          "base_uri": "https://localhost:8080/"
        },
        "id": "Oiym-0LlZsnJ",
        "outputId": "031fbda7-43aa-49f6-a7a0-c431b926f226"
      },
      "execution_count": 102,
      "outputs": [
        {
          "output_type": "stream",
          "name": "stdout",
          "text": [
            "Array:  [ 1  3  5  7  9 11 13 15 17 19]\n"
          ]
        }
      ]
    },
    {
      "cell_type": "code",
      "source": [
        "#Media de los elementos del array\n",
        "array1.mean()"
      ],
      "metadata": {
        "colab": {
          "base_uri": "https://localhost:8080/"
        },
        "id": "0JABArCOaDJK",
        "outputId": "39495181-d477-497d-b8b0-7daae41f6bc1"
      },
      "execution_count": 103,
      "outputs": [
        {
          "output_type": "execute_result",
          "data": {
            "text/plain": [
              "10.0"
            ]
          },
          "metadata": {},
          "execution_count": 103
        }
      ]
    },
    {
      "cell_type": "code",
      "source": [
        "#Suma de los elementos del array\n",
        "array1.sum()"
      ],
      "metadata": {
        "colab": {
          "base_uri": "https://localhost:8080/"
        },
        "id": "oKSpIKeFaGdy",
        "outputId": "e3b0b0e2-b838-4f6d-dd14-0e713b78c97b"
      },
      "execution_count": 104,
      "outputs": [
        {
          "output_type": "execute_result",
          "data": {
            "text/plain": [
              "100"
            ]
          },
          "metadata": {},
          "execution_count": 104
        }
      ]
    },
    {
      "cell_type": "code",
      "source": [
        "dir(array1)"
      ],
      "metadata": {
        "colab": {
          "base_uri": "https://localhost:8080/"
        },
        "id": "AxG-ueWKbbWw",
        "outputId": "0c05d844-4af8-4ad7-926c-cfacc97a27c7"
      },
      "execution_count": 52,
      "outputs": [
        {
          "output_type": "execute_result",
          "data": {
            "text/plain": [
              "['T',\n",
              " '__abs__',\n",
              " '__add__',\n",
              " '__and__',\n",
              " '__array__',\n",
              " '__array_finalize__',\n",
              " '__array_function__',\n",
              " '__array_interface__',\n",
              " '__array_prepare__',\n",
              " '__array_priority__',\n",
              " '__array_struct__',\n",
              " '__array_ufunc__',\n",
              " '__array_wrap__',\n",
              " '__bool__',\n",
              " '__class__',\n",
              " '__class_getitem__',\n",
              " '__complex__',\n",
              " '__contains__',\n",
              " '__copy__',\n",
              " '__deepcopy__',\n",
              " '__delattr__',\n",
              " '__delitem__',\n",
              " '__dir__',\n",
              " '__divmod__',\n",
              " '__dlpack__',\n",
              " '__dlpack_device__',\n",
              " '__doc__',\n",
              " '__eq__',\n",
              " '__float__',\n",
              " '__floordiv__',\n",
              " '__format__',\n",
              " '__ge__',\n",
              " '__getattribute__',\n",
              " '__getitem__',\n",
              " '__gt__',\n",
              " '__hash__',\n",
              " '__iadd__',\n",
              " '__iand__',\n",
              " '__ifloordiv__',\n",
              " '__ilshift__',\n",
              " '__imatmul__',\n",
              " '__imod__',\n",
              " '__imul__',\n",
              " '__index__',\n",
              " '__init__',\n",
              " '__init_subclass__',\n",
              " '__int__',\n",
              " '__invert__',\n",
              " '__ior__',\n",
              " '__ipow__',\n",
              " '__irshift__',\n",
              " '__isub__',\n",
              " '__iter__',\n",
              " '__itruediv__',\n",
              " '__ixor__',\n",
              " '__le__',\n",
              " '__len__',\n",
              " '__lshift__',\n",
              " '__lt__',\n",
              " '__matmul__',\n",
              " '__mod__',\n",
              " '__mul__',\n",
              " '__ne__',\n",
              " '__neg__',\n",
              " '__new__',\n",
              " '__or__',\n",
              " '__pos__',\n",
              " '__pow__',\n",
              " '__radd__',\n",
              " '__rand__',\n",
              " '__rdivmod__',\n",
              " '__reduce__',\n",
              " '__reduce_ex__',\n",
              " '__repr__',\n",
              " '__rfloordiv__',\n",
              " '__rlshift__',\n",
              " '__rmatmul__',\n",
              " '__rmod__',\n",
              " '__rmul__',\n",
              " '__ror__',\n",
              " '__rpow__',\n",
              " '__rrshift__',\n",
              " '__rshift__',\n",
              " '__rsub__',\n",
              " '__rtruediv__',\n",
              " '__rxor__',\n",
              " '__setattr__',\n",
              " '__setitem__',\n",
              " '__setstate__',\n",
              " '__sizeof__',\n",
              " '__str__',\n",
              " '__sub__',\n",
              " '__subclasshook__',\n",
              " '__truediv__',\n",
              " '__xor__',\n",
              " 'all',\n",
              " 'any',\n",
              " 'argmax',\n",
              " 'argmin',\n",
              " 'argpartition',\n",
              " 'argsort',\n",
              " 'astype',\n",
              " 'base',\n",
              " 'byteswap',\n",
              " 'choose',\n",
              " 'clip',\n",
              " 'compress',\n",
              " 'conj',\n",
              " 'conjugate',\n",
              " 'copy',\n",
              " 'ctypes',\n",
              " 'cumprod',\n",
              " 'cumsum',\n",
              " 'data',\n",
              " 'diagonal',\n",
              " 'dot',\n",
              " 'dtype',\n",
              " 'dump',\n",
              " 'dumps',\n",
              " 'fill',\n",
              " 'flags',\n",
              " 'flat',\n",
              " 'flatten',\n",
              " 'getfield',\n",
              " 'imag',\n",
              " 'item',\n",
              " 'itemset',\n",
              " 'itemsize',\n",
              " 'max',\n",
              " 'mean',\n",
              " 'min',\n",
              " 'nbytes',\n",
              " 'ndim',\n",
              " 'newbyteorder',\n",
              " 'nonzero',\n",
              " 'partition',\n",
              " 'prod',\n",
              " 'ptp',\n",
              " 'put',\n",
              " 'ravel',\n",
              " 'real',\n",
              " 'repeat',\n",
              " 'reshape',\n",
              " 'resize',\n",
              " 'round',\n",
              " 'searchsorted',\n",
              " 'setfield',\n",
              " 'setflags',\n",
              " 'shape',\n",
              " 'size',\n",
              " 'sort',\n",
              " 'squeeze',\n",
              " 'std',\n",
              " 'strides',\n",
              " 'sum',\n",
              " 'swapaxes',\n",
              " 'take',\n",
              " 'tobytes',\n",
              " 'tofile',\n",
              " 'tolist',\n",
              " 'tostring',\n",
              " 'trace',\n",
              " 'transpose',\n",
              " 'var',\n",
              " 'view']"
            ]
          },
          "metadata": {},
          "execution_count": 52
        }
      ]
    },
    {
      "cell_type": "markdown",
      "source": [
        "Funciones universales eficientes proporcionadas por numpy: **ufunc**"
      ],
      "metadata": {
        "id": "o4RLQU8laKRD"
      }
    },
    {
      "cell_type": "code",
      "source": [
        "#Cuadrado de los elementos del array\n",
        "np.square(array1)\n"
      ],
      "metadata": {
        "colab": {
          "base_uri": "https://localhost:8080/"
        },
        "id": "125sVe58aT6w",
        "outputId": "8038d79c-5a6c-43c7-ec6f-40ad626c3ccb"
      },
      "execution_count": 105,
      "outputs": [
        {
          "output_type": "execute_result",
          "data": {
            "text/plain": [
              "array([  1,   9,  25,  49,  81, 121, 169, 225, 289, 361])"
            ]
          },
          "metadata": {},
          "execution_count": 105
        }
      ]
    },
    {
      "cell_type": "code",
      "source": [
        "#Raiz cuadrada de los elementos del array\n",
        "np.sqrt(array1)"
      ],
      "metadata": {
        "colab": {
          "base_uri": "https://localhost:8080/"
        },
        "id": "lrPZ_ge_ayoV",
        "outputId": "a9b55d33-fb5f-462b-b4ed-0e11bf83f952"
      },
      "execution_count": 106,
      "outputs": [
        {
          "output_type": "execute_result",
          "data": {
            "text/plain": [
              "array([1.        , 1.73205081, 2.23606798, 2.64575131, 3.        ,\n",
              "       3.31662479, 3.60555128, 3.87298335, 4.12310563, 4.35889894])"
            ]
          },
          "metadata": {},
          "execution_count": 106
        }
      ]
    },
    {
      "cell_type": "code",
      "source": [
        "#Exponencial de los elementos del array\n",
        "np.exp(array1)"
      ],
      "metadata": {
        "colab": {
          "base_uri": "https://localhost:8080/"
        },
        "id": "IygYD_MBa1lg",
        "outputId": "828ac4f6-dc37-42ed-f45b-ad509e20ea7f"
      },
      "execution_count": 107,
      "outputs": [
        {
          "output_type": "execute_result",
          "data": {
            "text/plain": [
              "array([2.71828183e+00, 2.00855369e+01, 1.48413159e+02, 1.09663316e+03,\n",
              "       8.10308393e+03, 5.98741417e+04, 4.42413392e+05, 3.26901737e+06,\n",
              "       2.41549528e+07, 1.78482301e+08])"
            ]
          },
          "metadata": {},
          "execution_count": 107
        }
      ]
    },
    {
      "cell_type": "code",
      "source": [
        "#Log de los elementos del array\n",
        "np.log(array1)"
      ],
      "metadata": {
        "colab": {
          "base_uri": "https://localhost:8080/"
        },
        "id": "fbsnVp4Ka7d5",
        "outputId": "028b0e9d-fcf7-4940-e690-a7b3419e80de"
      },
      "execution_count": 108,
      "outputs": [
        {
          "output_type": "execute_result",
          "data": {
            "text/plain": [
              "array([0.        , 1.09861229, 1.60943791, 1.94591015, 2.19722458,\n",
              "       2.39789527, 2.56494936, 2.7080502 , 2.83321334, 2.94443898])"
            ]
          },
          "metadata": {},
          "execution_count": 108
        }
      ]
    }
  ]
}